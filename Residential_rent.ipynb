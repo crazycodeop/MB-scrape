{
  "cells": [
    {
      "cell_type": "code",
      "execution_count": 1,
      "metadata": {
        "colab": {
          "base_uri": "https://localhost:8080/"
        },
        "id": "LfDxUu1zNw17",
        "outputId": "18f73e1a-1242-49bd-d80d-f8af8e78f121"
      },
      "outputs": [
        {
          "output_type": "stream",
          "name": "stdout",
          "text": [
            "Looking in indexes: https://pypi.org/simple, https://us-python.pkg.dev/colab-wheels/public/simple/\n",
            "Collecting nums_from_string\n",
            "  Downloading nums_from_string-0.1.2-py3-none-any.whl (5.0 kB)\n",
            "Installing collected packages: nums_from_string\n",
            "Successfully installed nums_from_string-0.1.2\n"
          ]
        }
      ],
      "source": [
        "pip install nums_from_string"
      ]
    },
    {
      "cell_type": "code",
      "execution_count": 2,
      "metadata": {
        "id": "SnBsfVZofAEz"
      },
      "outputs": [],
      "source": [
        "import requests\n",
        "import datetime\n",
        "import nums_from_string\n",
        "import csv\n",
        "import json\n",
        "import pandas as pd\n",
        "import numpy as np\n",
        "from bs4 import BeautifulSoup"
      ]
    },
    {
      "cell_type": "code",
      "execution_count": 3,
      "metadata": {
        "id": "QWeqxEZMfNbZ"
      },
      "outputs": [],
      "source": [
        "data = []\n",
        "cities=['Mumbai', 'Goa']"
      ]
    },
    {
      "cell_type": "code",
      "execution_count": 4,
      "metadata": {
        "id": "0W3aAxHRfNeR"
      },
      "outputs": [],
      "source": [
        "today = datetime.datetime.today().strftime ('%Y-%m-%d')\n",
        "def get_date_posted(ago_count):\n",
        "  Previous_Date = datetime.datetime.today() - datetime.timedelta(days=ago_count)\n",
        "  previous_d_for = Previous_Date.strftime ('%d/%m/%Y')\n",
        "  return previous_d_for\n",
        "\n",
        "def scrape(city):\n",
        "  for i in range(1,20):\n",
        "\n",
        "    url = \"https://www.magicbricks.com/property-for-rent/residential-commercial-real-estate?proptype=Multistorey-Apartment,Builder-Floor-Apartment,Penthouse,Studio-Apartment,Residential-House,Villa,Residential-Plot,Commercial-Office-Space,Office-ITPark-SEZ,Commercial-Shop,Commercial-Showroom,Commercial-Land,Industrial-Land,Warehouse/-Godown,Industrial-Building,Industrial-Shed&page=\"+str(i)+\"&cityName=\"+city+\"&language=en\"\n",
        "    response = requests.get(url)\n",
        "    response = response.content\n",
        "    soup = BeautifulSoup(response, 'html.parser')\n",
        "    cards = soup.find_all('div', class_='mb-srp__card')\n",
        "\n",
        "    locality = None\n",
        "    furnishing = None\n",
        "    carpet_area = None\n",
        "    availability = None\n",
        "    facing = None\n",
        "    floor = None\n",
        "    tenant = None\n",
        "    car_parking = None\n",
        "    society = None\n",
        "    desc = None\n",
        "    date_posted = None\n",
        "\n",
        "    for card in cards:\n",
        "      try:\n",
        "        posted_date = card.find(class_=\"mb-srp__card__photo__fig--post\").text\n",
        "        if 'today' in posted_date or 'Today' in posted_date:\n",
        "          date_posted = get_date_posted(0)\n",
        "        elif 'ago' in posted_date:\n",
        "          ago_date_count = int(nums_from_string.get_nums(posted_date)[0])\n",
        "          if 'days' in posted_date:\n",
        "              date_posted = get_date_posted(ago_date_count)\n",
        "          elif 'weeks' in posted_date:\n",
        "              date_posted = get_date_posted((ago_date_count*7))\n",
        "          else:\n",
        "              date_posted = get_date_posted((ago_date_count*30))\n",
        "        elif 'yesterday' in posted_date or 'Yesterday' in posted_date:\n",
        "            date_posted = get_date_posted(1)\n",
        "        else:\n",
        "            date_posted = posted_date.replace('Posted: ','')\n",
        "            \n",
        "      except:\n",
        "          posted_date = None\n",
        "      try: \n",
        "          link = card.find('a', class_='mb-srp__card__society--name')['href']\n",
        "      except:\n",
        "          link = None\n",
        "      try: \n",
        "          owner = card.find('div', class_='mb-srp__card__ads--name').text\n",
        "      except:\n",
        "          owner = None\n",
        "      bhks = card.find('h2', class_='mb-srp__card--title').text\n",
        "      prop_locality = bhks.split(', ')\n",
        "      bhk = prop_locality[0][0:5]\n",
        "      del prop_locality[0]\n",
        "      try:\n",
        "        locality = prop_locality[0]\n",
        "      except:\n",
        "        locality = city\n",
        "      childs = card.find('div', class_='mb-srp__card__summary__list')\n",
        "      description = card.find('div', class_='mb-srp__card--desc')\n",
        "      try: \n",
        "          desc = description.find('p').text.replace('\"', '')\n",
        "      except:\n",
        "          desc = None\n",
        "      rent = card.find('div', class_='mb-srp__card__price--amount').text.replace('₹', '')\n",
        "      for elem in childs.contents:\n",
        "        try:\n",
        "          if elem.get('data-summary') == 'facing':\n",
        "            facing = elem.text.replace('facing', '')\n",
        "        except:\n",
        "          facing= None\n",
        "        try:\n",
        "          if elem.get('data-summary') == 'tenent-preffered':\n",
        "            tenant = elem.text.replace('Tenant Preferred', '')\n",
        "        except:\n",
        "          tenant= None\n",
        "        try:\n",
        "          if elem.get('data-summary') == 'floor':\n",
        "            floor = elem.text.replace('Floor', '')\n",
        "        except:\n",
        "          floor= None\n",
        "        try:\n",
        "          if elem.get('data-summary') == 'status':\n",
        "            availability = elem.text.replace('Availability', '')\n",
        "        except:\n",
        "          availability= None\n",
        "        try:\n",
        "          if elem.get('data-summary') == 'society':\n",
        "            society = elem.text.replace('Society', '')\n",
        "        except:\n",
        "          society= None\n",
        "        try:    \n",
        "          if elem.get('data-summary') == 'furnishing':\n",
        "            furnishing = elem.text.replace('Furnishing', '')  \n",
        "        except:\n",
        "          furnishing = None\n",
        "        try: \n",
        "          if elem.get('data-summary') == 'parking':\n",
        "            car_parking = elem.text.replace('Car Parking', '')\n",
        "        except:\n",
        "          car_parking = None\n",
        "        try:\n",
        "          if elem.get('data-summary') == 'carpet-area':\n",
        "            carpet_area = elem.text.replace('Carpet Area', '')\n",
        "        except:\n",
        "          carpet_area= None\n",
        "        try:\n",
        "          if ('Owner' in owner) or ('Agent' in owner):\n",
        "            data.append([date_posted, link, owner, bhk, locality, rent, furnishing, car_parking, facing, availability, floor, tenant, carpet_area, desc])\n",
        "        except:\n",
        "          data.append([date_posted, link, owner, bhk, locality, rent, furnishing, car_parking, facing, availability, floor, tenant, carpet_area, desc])\n",
        "  df = pd.DataFrame(data, columns=['Date Posted', 'Link', 'Owner', 'BHK', 'Locality', 'Rent', 'Furnishing', 'Car Parking', 'Facing', 'Availability', 'Floor', 'Tenant Preferred', 'Carpet Area', 'Description'])\n",
        "  df.to_csv('Data_{0}.csv'.format(str(city)), index=False)\n",
        "  df.drop_duplicates(subset='Link', keep='first', inplace=True)\n",
        "  df.insert(loc=0, column='No', value=np.arange(len(df)))\n",
        "  try:\n",
        "    df.drop(index=df.index[0], axis=0, inplace=True)\n",
        "  except:\n",
        "    df = df.fillna(0)\n",
        "  df.to_csv('{0}_{1}_rent.csv'.format(str(city), today), index=False)\n",
        "\n",
        "  # Function to convert a CSV to JSON\n",
        "  def make_json(csvFilePath, jsonFilePath):\n",
        "    \n",
        "    data = {}\n",
        "    \n",
        "    with open(csvFilePath, encoding='utf-8') as csvf:\n",
        "      csvReader = csv.DictReader(csvf)\n",
        "\n",
        "      for rows in csvReader:\n",
        "\n",
        "        key = rows['No']\n",
        "        data[key] = rows\n",
        "\n",
        "    with open(jsonFilePath, 'w', encoding='utf-8') as jsonf:\n",
        "      jsonf.write(json.dumps(data, indent=4))\n",
        "\n",
        "  csvFilePath = r'{0}_{1}_rent.csv'.format(str(city), today)\n",
        "  jsonFilePath = r'{0}_{1}_rent.json'.format(str(city), today)\n",
        "\n",
        "  make_json(csvFilePath, jsonFilePath)"
      ]
    },
    {
      "cell_type": "code",
      "source": [
        "for city in cities:\n",
        "  scrape(city)"
      ],
      "metadata": {
        "id": "Re3ofDpiGXFd"
      },
      "execution_count": 5,
      "outputs": []
    }
  ],
  "metadata": {
    "colab": {
      "provenance": []
    },
    "kernelspec": {
      "display_name": "Python 3",
      "name": "python3"
    },
    "language_info": {
      "name": "python"
    }
  },
  "nbformat": 4,
  "nbformat_minor": 0
}